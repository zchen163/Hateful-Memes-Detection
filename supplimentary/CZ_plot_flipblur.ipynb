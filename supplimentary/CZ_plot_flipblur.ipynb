{
 "cells": [
  {
   "cell_type": "code",
   "execution_count": 16,
   "id": "287be9ec",
   "metadata": {},
   "outputs": [],
   "source": [
    "import numpy as np\n",
    "import os"
   ]
  },
  {
   "cell_type": "markdown",
   "id": "a68e427c",
   "metadata": {},
   "source": [
    "# Obtain best accuracy and bset roc_auc from log files (after data augmentation training)"
   ]
  },
  {
   "cell_type": "code",
   "execution_count": 17,
   "id": "079135c6",
   "metadata": {},
   "outputs": [
    {
     "name": "stdout",
     "output_type": "stream",
     "text": [
      "0.6981\n",
      "0.7497\n",
      "\n",
      "2021-05-04T00:14:45 | INFO | mmf.trainers.callbacks.logistics : progress: 100/1000, val/hateful_memes/cross_entropy: 0.6190, val/total_loss: 0.6190, val/hateful_memes/accuracy: 0.6981, val/hateful_memes/binary_f1: 0.5046, val/hateful_memes/roc_auc: 0.7497\n",
      "\n",
      "[0.7056, 0.7074, 0.7074, 0.7074, 0.6889, 0.7185, 0.6981, 0.7148, 0.7037, 0.7093, 0.713, 0.6852, 0.7278, 0.7111, 0.7185, 0.713, 0.7093, 0.7074, 0.7037, 0.7056, 0.7296, 0.7093, 0.7019, 0.7074, 0.6778, 0.6852, 0.6981]\n",
      "[0.7461, 0.7516, 0.7314, 0.748, 0.7375, 0.7573, 0.7075, 0.7549, 0.7355, 0.7214, 0.7151, 0.7075, 0.7498, 0.732, 0.7429, 0.7467, 0.7421, 0.713, 0.7176, 0.7497, 0.7548, 0.7392, 0.7421, 0.7362, 0.7155, 0.7017, 0.7497]\n"
     ]
    }
   ],
   "source": [
    "log_dir0 = '/home/chen_zhang06/HatefulMemes/train_with_new_data_flipblur'\n",
    "accs = []\n",
    "aucs = []\n",
    "for i in range(27):\n",
    "    log_dir = f\"{log_dir0}/{i}\"\n",
    "    f = open(os.path.join(log_dir, 'train.log'), 'r')\n",
    "    f = list(f)\n",
    "    accs.append(float(f[-2].split(',')[3][-6:]))\n",
    "    aucs.append(float(f[-2].split(',')[5][-7:]))\n",
    "print(f[-2].split(',')[3][-6:])\n",
    "print(f[-2].split(',')[5][-7:])\n",
    "print(f[-2])\n",
    "print(accs)\n",
    "print(aucs)"
   ]
  },
  {
   "cell_type": "markdown",
   "id": "2e325fb6",
   "metadata": {},
   "source": [
    "# Obtain original accuracy and roc_auc from csv file"
   ]
  },
  {
   "cell_type": "code",
   "execution_count": 18,
   "id": "940cea79",
   "metadata": {},
   "outputs": [
    {
     "data": {
      "text/html": [
       "<div>\n",
       "<style scoped>\n",
       "    .dataframe tbody tr th:only-of-type {\n",
       "        vertical-align: middle;\n",
       "    }\n",
       "\n",
       "    .dataframe tbody tr th {\n",
       "        vertical-align: top;\n",
       "    }\n",
       "\n",
       "    .dataframe thead th {\n",
       "        text-align: right;\n",
       "    }\n",
       "</style>\n",
       "<table border=\"1\" class=\"dataframe\">\n",
       "  <thead>\n",
       "    <tr style=\"text-align: right;\">\n",
       "      <th></th>\n",
       "      <th>id</th>\n",
       "      <th>lr_ratio</th>\n",
       "      <th>use_warmup</th>\n",
       "      <th>warmup_factor</th>\n",
       "      <th>warmup_iterations</th>\n",
       "      <th>lr</th>\n",
       "      <th>batch_size</th>\n",
       "      <th>scheduler.num_warmup_steps</th>\n",
       "      <th>scheduler.type</th>\n",
       "      <th>ROC-AUC</th>\n",
       "      <th>Acc.</th>\n",
       "      <th>best iteration</th>\n",
       "    </tr>\n",
       "  </thead>\n",
       "  <tbody>\n",
       "    <tr>\n",
       "      <th>0</th>\n",
       "      <td>18</td>\n",
       "      <td>0.6</td>\n",
       "      <td>True</td>\n",
       "      <td>0.2</td>\n",
       "      <td>1000.0</td>\n",
       "      <td>0.000050</td>\n",
       "      <td>80</td>\n",
       "      <td>500</td>\n",
       "      <td>warmup_cosine</td>\n",
       "      <td>0.7757</td>\n",
       "      <td>0.7315</td>\n",
       "      <td>3150.0</td>\n",
       "    </tr>\n",
       "    <tr>\n",
       "      <th>1</th>\n",
       "      <td>19</td>\n",
       "      <td>0.3</td>\n",
       "      <td>True</td>\n",
       "      <td>0.2</td>\n",
       "      <td>1000.0</td>\n",
       "      <td>0.000050</td>\n",
       "      <td>80</td>\n",
       "      <td>250</td>\n",
       "      <td>warmup_cosine</td>\n",
       "      <td>0.7739</td>\n",
       "      <td>0.7241</td>\n",
       "      <td>900.0</td>\n",
       "    </tr>\n",
       "    <tr>\n",
       "      <th>2</th>\n",
       "      <td>8</td>\n",
       "      <td>0.3</td>\n",
       "      <td>True</td>\n",
       "      <td>0.7</td>\n",
       "      <td>1000.0</td>\n",
       "      <td>0.000050</td>\n",
       "      <td>80</td>\n",
       "      <td>250</td>\n",
       "      <td>warmup_cosine</td>\n",
       "      <td>0.7695</td>\n",
       "      <td>0.7241</td>\n",
       "      <td>700.0</td>\n",
       "    </tr>\n",
       "    <tr>\n",
       "      <th>3</th>\n",
       "      <td>16</td>\n",
       "      <td>0.6</td>\n",
       "      <td>True</td>\n",
       "      <td>0.2</td>\n",
       "      <td>1000.0</td>\n",
       "      <td>0.000050</td>\n",
       "      <td>80</td>\n",
       "      <td>2000</td>\n",
       "      <td>warmup_linear</td>\n",
       "      <td>0.7695</td>\n",
       "      <td>0.7167</td>\n",
       "      <td>2100.0</td>\n",
       "    </tr>\n",
       "    <tr>\n",
       "      <th>4</th>\n",
       "      <td>7</td>\n",
       "      <td>0.3</td>\n",
       "      <td>True</td>\n",
       "      <td>0.6</td>\n",
       "      <td>2000.0</td>\n",
       "      <td>0.000050</td>\n",
       "      <td>80</td>\n",
       "      <td>250</td>\n",
       "      <td>warmup_cosine</td>\n",
       "      <td>0.7678</td>\n",
       "      <td>0.7259</td>\n",
       "      <td>2100.0</td>\n",
       "    </tr>\n",
       "    <tr>\n",
       "      <th>...</th>\n",
       "      <td>...</td>\n",
       "      <td>...</td>\n",
       "      <td>...</td>\n",
       "      <td>...</td>\n",
       "      <td>...</td>\n",
       "      <td>...</td>\n",
       "      <td>...</td>\n",
       "      <td>...</td>\n",
       "      <td>...</td>\n",
       "      <td>...</td>\n",
       "      <td>...</td>\n",
       "      <td>...</td>\n",
       "    </tr>\n",
       "    <tr>\n",
       "      <th>61</th>\n",
       "      <td>62</td>\n",
       "      <td>0.8</td>\n",
       "      <td>True</td>\n",
       "      <td>0.2</td>\n",
       "      <td>1000.0</td>\n",
       "      <td>0.000050</td>\n",
       "      <td>80</td>\n",
       "      <td>250</td>\n",
       "      <td>warmup_cosine</td>\n",
       "      <td>0.7393</td>\n",
       "      <td>0.7130</td>\n",
       "      <td>NaN</td>\n",
       "    </tr>\n",
       "    <tr>\n",
       "      <th>62</th>\n",
       "      <td>63</td>\n",
       "      <td>0.6</td>\n",
       "      <td>True</td>\n",
       "      <td>0.2</td>\n",
       "      <td>1000.0</td>\n",
       "      <td>0.000050</td>\n",
       "      <td>80</td>\n",
       "      <td>500</td>\n",
       "      <td>warmup_cosine</td>\n",
       "      <td>0.7389</td>\n",
       "      <td>0.6981</td>\n",
       "      <td>700.0</td>\n",
       "    </tr>\n",
       "    <tr>\n",
       "      <th>63</th>\n",
       "      <td>64</td>\n",
       "      <td>0.1</td>\n",
       "      <td>False</td>\n",
       "      <td>0.2</td>\n",
       "      <td>1000.0</td>\n",
       "      <td>0.000005</td>\n",
       "      <td>32</td>\n",
       "      <td>2000</td>\n",
       "      <td>warmup_linear</td>\n",
       "      <td>0.7382</td>\n",
       "      <td>0.7019</td>\n",
       "      <td>NaN</td>\n",
       "    </tr>\n",
       "    <tr>\n",
       "      <th>64</th>\n",
       "      <td>65</td>\n",
       "      <td>0.1</td>\n",
       "      <td>False</td>\n",
       "      <td>0.2</td>\n",
       "      <td>1000.0</td>\n",
       "      <td>0.000005</td>\n",
       "      <td>32</td>\n",
       "      <td>2000</td>\n",
       "      <td>warmup_linear</td>\n",
       "      <td>0.7350</td>\n",
       "      <td>0.7037</td>\n",
       "      <td>NaN</td>\n",
       "    </tr>\n",
       "    <tr>\n",
       "      <th>65</th>\n",
       "      <td>66</td>\n",
       "      <td>0.6</td>\n",
       "      <td>True</td>\n",
       "      <td>0.2</td>\n",
       "      <td>1000.0</td>\n",
       "      <td>0.000010</td>\n",
       "      <td>80</td>\n",
       "      <td>1000</td>\n",
       "      <td>warmup_cosine</td>\n",
       "      <td>0.7326</td>\n",
       "      <td>0.7093</td>\n",
       "      <td>1650.0</td>\n",
       "    </tr>\n",
       "  </tbody>\n",
       "</table>\n",
       "<p>66 rows × 12 columns</p>\n",
       "</div>"
      ],
      "text/plain": [
       "    id  lr_ratio  use_warmup  warmup_factor  warmup_iterations        lr  \\\n",
       "0   18       0.6        True            0.2             1000.0  0.000050   \n",
       "1   19       0.3        True            0.2             1000.0  0.000050   \n",
       "2    8       0.3        True            0.7             1000.0  0.000050   \n",
       "3   16       0.6        True            0.2             1000.0  0.000050   \n",
       "4    7       0.3        True            0.6             2000.0  0.000050   \n",
       "..  ..       ...         ...            ...                ...       ...   \n",
       "61  62       0.8        True            0.2             1000.0  0.000050   \n",
       "62  63       0.6        True            0.2             1000.0  0.000050   \n",
       "63  64       0.1       False            0.2             1000.0  0.000005   \n",
       "64  65       0.1       False            0.2             1000.0  0.000005   \n",
       "65  66       0.6        True            0.2             1000.0  0.000010   \n",
       "\n",
       "    batch_size  scheduler.num_warmup_steps scheduler.type  ROC-AUC    Acc.  \\\n",
       "0           80                         500  warmup_cosine   0.7757  0.7315   \n",
       "1           80                         250  warmup_cosine   0.7739  0.7241   \n",
       "2           80                         250  warmup_cosine   0.7695  0.7241   \n",
       "3           80                        2000  warmup_linear   0.7695  0.7167   \n",
       "4           80                         250  warmup_cosine   0.7678  0.7259   \n",
       "..         ...                         ...            ...      ...     ...   \n",
       "61          80                         250  warmup_cosine   0.7393  0.7130   \n",
       "62          80                         500  warmup_cosine   0.7389  0.6981   \n",
       "63          32                        2000  warmup_linear   0.7382  0.7019   \n",
       "64          32                        2000  warmup_linear   0.7350  0.7037   \n",
       "65          80                        1000  warmup_cosine   0.7326  0.7093   \n",
       "\n",
       "    best iteration  \n",
       "0           3150.0  \n",
       "1            900.0  \n",
       "2            700.0  \n",
       "3           2100.0  \n",
       "4           2100.0  \n",
       "..             ...  \n",
       "61             NaN  \n",
       "62           700.0  \n",
       "63             NaN  \n",
       "64             NaN  \n",
       "65          1650.0  \n",
       "\n",
       "[66 rows x 12 columns]"
      ]
     },
     "execution_count": 18,
     "metadata": {},
     "output_type": "execute_result"
    }
   ],
   "source": [
    "import pandas as pd\n",
    "pd_data = pd.read_csv(os.path.join(log_dir0, 'HyperparameterTuning.csv'))\n",
    "pd_data"
   ]
  },
  {
   "cell_type": "code",
   "execution_count": 27,
   "id": "b52a66f5",
   "metadata": {},
   "outputs": [
    {
     "name": "stdout",
     "output_type": "stream",
     "text": [
      "0.7232592592592592\n"
     ]
    }
   ],
   "source": [
    "acc_orig = pd_data['Acc.'].values[:27]\n",
    "acc_orig\n",
    "print(acc_orig.mean())"
   ]
  },
  {
   "cell_type": "code",
   "execution_count": 26,
   "id": "b144479d",
   "metadata": {},
   "outputs": [
    {
     "name": "stdout",
     "output_type": "stream",
     "text": [
      "0.7654666666666666\n"
     ]
    }
   ],
   "source": [
    "auc_orig = pd_data['ROC-AUC'].values[:27]\n",
    "auc_orig\n",
    "print(auc_orig.mean())"
   ]
  },
  {
   "cell_type": "markdown",
   "id": "86034223",
   "metadata": {},
   "source": [
    "# Make plot"
   ]
  },
  {
   "cell_type": "code",
   "execution_count": 23,
   "id": "18c92ceb",
   "metadata": {},
   "outputs": [
    {
     "data": {
      "image/png": "[encoded data removed]",
      "text/plain": [
       "<Figure size 432x288 with 1 Axes>"
      ]
     },
     "metadata": {
      "needs_background": "light"
     },
     "output_type": "display_data"
    }
   ],
   "source": [
    "import matplotlib.pyplot as plt\n",
    "x = list(range(1, 28))\n",
    "plt.plot(x, accs, label = \"Accuracy by adding flipping blurred images data\")\n",
    "plt.plot(x, acc_orig, label = \"Original accuracy\")\n",
    "plt.xlabel('Model number')\n",
    "plt.ylabel('Accuracy')\n",
    "plt.title('Accuracy of fine-tuned VisualBert models')\n",
    "plt.ylim(0.5, 0.8)\n",
    "plt.legend()\n",
    "# plt.show()\n",
    "os.chdir('/home/chen_zhang06/HatefulMemes/output')\n",
    "plt.savefig('accu_flipblur.png')"
   ]
  },
  {
   "cell_type": "code",
   "execution_count": 24,
   "id": "ef8b850e",
   "metadata": {},
   "outputs": [
    {
     "data": {
      "image/png": "[encoded data removed]",
      "text/plain": [
       "<Figure size 432x288 with 1 Axes>"
      ]
     },
     "metadata": {
      "needs_background": "light"
     },
     "output_type": "display_data"
    }
   ],
   "source": [
    "plt.plot(x, aucs, label = \"ROC-AUC by adding flipping blurred images data\")\n",
    "plt.plot(x, auc_orig, label = \"Original ROC-AUC\")\n",
    "plt.xlabel('Model number')\n",
    "plt.ylabel('ROC-AUC')\n",
    "plt.title('ROC-AUC of fine-tuned VisualBert models')\n",
    "plt.legend()\n",
    "plt.ylim(0.5, 0.8)\n",
    "# plt.show()\n",
    "os.chdir('/home/chen_zhang06/HatefulMemes/output')\n",
    "plt.savefig('AUROC_flipblur.png')"
   ]
  },
  {
   "cell_type": "code",
   "execution_count": null,
   "id": "32ed53b2",
   "metadata": {},
   "outputs": [],
   "source": []
  },
  {
   "cell_type": "code",
   "execution_count": null,
   "id": "db86e80a",
   "metadata": {},
   "outputs": [],
   "source": []
  }
 ],
 "metadata": {
  "kernelspec": {
   "display_name": "Python 3",
   "language": "python",
   "name": "python3"
  },
  "language_info": {
   "codemirror_mode": {
    "name": "ipython",
    "version": 3
   },
   "file_extension": ".py",
   "mimetype": "text/x-python",
   "name": "python",
   "nbconvert_exporter": "python",
   "pygments_lexer": "ipython3",
   "version": "3.7.10"
  }
 },
 "nbformat": 4,
 "nbformat_minor": 5
}
